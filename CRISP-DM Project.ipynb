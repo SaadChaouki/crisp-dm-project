{
 "cells": [
  {
   "cell_type": "markdown",
   "metadata": {},
   "source": [
    "# US Accidents Exploration with Python\n",
    "## A look into the number of accidents in the US from 2016 to 2019\n",
    "\n",
    "\n",
    "This project is part of the Udacity Data Scientist for Enterprise nanodegree. The goal of the project is to find a dataset, come up with three questions to answer from it using Python, then writing a post on Medium to explain the findings.\n",
    "\n",
    "The project has to follow the CRISP-DM industry standards for data science:\n",
    "\n",
    "* Business Understanding \n",
    "* Data Understanding\n",
    "* Prepare Data|\n",
    "* Model Data\n",
    "* Results\n",
    "* Deploy\n",
    "\n",
    "The questions I will tackle using this methodology are:\n",
    "\n",
    "* What states have the highest number of accidents?\n",
    "* What's the trend of the number of accidents and is there any seasonality?\n",
    "* What impacts the number of accidents in the US?\n",
    "\n",
    "The dataset used can be found on [Kaggle](https://www.kaggle.com/sobhanmoosavi/us-accidents/data) and the finding on [Medium](https://medium.com/r/?url=https%3A%2F%2Fwww.kaggle.com%2Fsobhanmoosavi%2Fus-accidents%2Fdata). \n"
   ]
  },
  {
   "cell_type": "code",
   "execution_count": 1,
   "metadata": {},
   "outputs": [],
   "source": [
    "# Importing libraries\n",
    "import pandas as pd\n",
    "import numpy as np\n",
    "from pandas.tseries.offsets import MonthBegin\n",
    "import matplotlib.pyplot as plt\n",
    "import statsmodels.api as sm\n",
    "import seaborn as sns\n",
    "import plotly.graph_objects as go\n",
    "from sklearn.linear_model import LinearRegression\n",
    "from sklearn.model_selection import train_test_split\n",
    "from sklearn.metrics import r2_score, mean_squared_error\n",
    "import pandas as pd\n",
    "from sklearn.preprocessing import PolynomialFeatures\n",
    "from sklearn.ensemble import RandomForestRegressor\n",
    "\n",
    "# Magic Keywords\n",
    "%matplotlib inline\n",
    "\n",
    "# Setting Theme\n",
    "PlotsFont = 'Helvetica'"
   ]
  },
  {
   "cell_type": "code",
   "execution_count": null,
   "metadata": {},
   "outputs": [],
   "source": [
    "# Reading data\n",
    "AccidentData = pd.read_csv('US_Accidents_Dec19.csv')"
   ]
  },
  {
   "cell_type": "markdown",
   "metadata": {},
   "source": [
    "## Data Exploration"
   ]
  },
  {
   "cell_type": "code",
   "execution_count": null,
   "metadata": {},
   "outputs": [],
   "source": [
    "# Data Description\n",
    "print('Data Description and Shape: ')\n",
    "print(AccidentData.shape)\n",
    "print(AccidentData.describe().T)"
   ]
  },
  {
   "cell_type": "code",
   "execution_count": null,
   "metadata": {},
   "outputs": [],
   "source": [
    "# Checking Missing Values\n",
    "plt.figure(figsize=(14, 4), dpi=80, facecolor='w', edgecolor='k')\n",
    "plt.xticks(rotation=90, fontname = PlotsFont)\n",
    "plt.yticks(fontname = PlotsFont)\n",
    "plt.title('Count of Missing Values by Feature', fontname = PlotsFont, size = 12)\n",
    "sns.barplot(x = AccidentData.isna().sum().index, y = AccidentData.isna().sum().values);"
   ]
  },
  {
   "cell_type": "markdown",
   "metadata": {},
   "source": [
    "## Question 1: What states have the highest number of accidents?\n",
    "\n",
    "- How do the states rank in terms of accidents?\n",
    "- Does that have an impact on other variables?"
   ]
  },
  {
   "cell_type": "code",
   "execution_count": null,
   "metadata": {},
   "outputs": [],
   "source": [
    "# Number of accidents per state in the dataset\n",
    "plt.figure(num=None, figsize=(14, 4), dpi=80, facecolor='w', edgecolor='k')\n",
    "plt.xticks(rotation=90, fontname = PlotsFont)\n",
    "plt.yticks(fontname = PlotsFont)\n",
    "plt.title('Number of Accident by State', fontname = PlotsFont, size = 12)\n",
    "sns.barplot(x = AccidentData['State'].value_counts().index, y = AccidentData['State'].value_counts().values);"
   ]
  },
  {
   "cell_type": "code",
   "execution_count": null,
   "metadata": {},
   "outputs": [],
   "source": [
    "# Getting states and values\n",
    "States = list(AccidentData['State'].value_counts().index)\n",
    "Values = list(AccidentData['State'].value_counts().values)\n",
    "\n",
    "# Creating dataframe with the count of accidents per state.\n",
    "MapData = pd.DataFrame({'code': States, 'accidents':Values})\n",
    "\n",
    "# Plotting a map using plotly\n",
    "fig = go.Figure(data=go.Choropleth(\n",
    "    locations=MapData['code'],\n",
    "    z=MapData['accidents'].astype(float),\n",
    "    locationmode='USA-states',\n",
    "    colorscale='Reds',\n",
    "    marker_line_color='white', \n",
    "    colorbar_title=\"Car Accidents\", ))\n",
    "\n",
    "fig.update_layout(\n",
    "    title_text='2016 - 2019 US Car Accidents',\n",
    "    geo = dict(scope='usa', projection=go.layout.geo.Projection(type = 'albers usa'), showlakes=True, \n",
    "                lakecolor='rgb(255, 255, 255)'))\n",
    "\n",
    "fig.show()"
   ]
  },
  {
   "cell_type": "code",
   "execution_count": null,
   "metadata": {},
   "outputs": [],
   "source": [
    "# Calculating the number of accidents per weather condition and filtering on count > 500\n",
    "AccidentsWeather = AccidentData['Weather_Condition'].value_counts()\n",
    "AccidentsWeather = AccidentsWeather[AccidentsWeather.values > 500]\n",
    "\n",
    "# Plotting bar chart\n",
    "plt.figure(num=None, figsize=(14, 4), dpi=80, facecolor='w', edgecolor='k')\n",
    "plt.xticks(rotation=90, fontname = PlotsFont)\n",
    "plt.yticks(fontname = PlotsFont)\n",
    "plt.title('Number of Accident by State', fontname = PlotsFont, size = 12)\n",
    "sns.barplot(x = AccidentsWeather.index, y = AccidentsWeather.values, palette = 'Reds_r');"
   ]
  },
  {
   "cell_type": "markdown",
   "metadata": {},
   "source": [
    "## What's the trend of the number of accidents and is there any seasonality?\n",
    "\n",
    "- Is the number of accidents increasing or decreasing?\n",
    "- Is there any seasonality in the number of accidents?"
   ]
  },
  {
   "cell_type": "code",
   "execution_count": null,
   "metadata": {
    "scrolled": false
   },
   "outputs": [],
   "source": [
    "# Checking the number of nulls in the start time column\n",
    "print(f'Count of nulls in start time {str(AccidentData.Start_Time.isna().sum())} \\n')\n",
    "\n",
    "# Creating a column to hold the value per month. Calling it period\n",
    "AccidentData['Period']  = pd.to_datetime(AccidentData.Start_Time).dt.to_period('M').dt.to_timestamp()\n",
    "\n",
    "# The values of 2016 seem to be increasing which can show that the data collection wasn't done \n",
    "# compeltely in the beggining. \n",
    "# the data for 2020 also seems to be incomplete.\n",
    "# Delete 2015, 2016 and 2020 for the data\n",
    "\n",
    "AccidentData = AccidentData.loc[~AccidentData['Start_Time'].str.startswith('2015')]\n",
    "AccidentData = AccidentData.loc[~AccidentData['Start_Time'].str.startswith('2016')]\n",
    "AccidentData = AccidentData.loc[~AccidentData['Start_Time'].str.startswith('2020')]\n"
   ]
  },
  {
   "cell_type": "code",
   "execution_count": null,
   "metadata": {},
   "outputs": [],
   "source": [
    "# Number of accidents per state in the dataset\n",
    "fig = plt.figure(num=None, figsize=(14, 4), dpi=80, facecolor='w', edgecolor='k')\n",
    "plt.xticks(rotation=90, fontname = PlotsFont)\n",
    "plt.yticks(fontname = PlotsFont)\n",
    "plt.title('Number of Accidents in the US over time', fontname = PlotsFont, size = 12)\n",
    "sns.lineplot(data = AccidentData[['Period', 'ID']].groupby('Period').agg(['count']),markers=True, \n",
    "             dashes=False, palette = 'Reds', legend = False);\n"
   ]
  },
  {
   "cell_type": "code",
   "execution_count": null,
   "metadata": {},
   "outputs": [],
   "source": [
    "GroupedData = pd.DataFrame({'count' : AccidentData.groupby( [ \"Period\", \"State\"] ).size()}).reset_index()\n",
    "Top10Countries = AccidentData['State'].value_counts()[:10].index.values\n",
    "\n",
    "# Top countries values\n",
    "GroupedData = GroupedData[GroupedData['State'].isin(Top10Countries)]\n",
    "\n",
    "HeatMapData = GroupedData.pivot(\"State\", \"Period\")\n",
    "\n",
    "plt.figure(num=None, figsize=(18, 4), dpi=80, facecolor='w', edgecolor='k')\n",
    "plt.title('Evolution Top 10 States', fontname = PlotsFont, size = 12)\n",
    "sns.heatmap(HeatMapData, cmap=\"YlGnBu\", xticklabels = False);"
   ]
  },
  {
   "cell_type": "code",
   "execution_count": null,
   "metadata": {},
   "outputs": [],
   "source": [
    "# Timeline data\n",
    "TimelineData = pd.DataFrame({'count' : AccidentData.groupby([\"Period\"]).size()}).reset_index()\n",
    "\n",
    "# Set Index of timeline\n",
    "TimelineData['Period'] = pd.to_datetime(TimelineData['Period'])\n",
    "TimelineData = TimelineData.set_index('Period')\n",
    "\n",
    "# Setting the frequency for the decompose function\n",
    "TimelineData.index.freq = 'MS'\n",
    "\n",
    "# Decomposition\n",
    "Decomposition = sm.tsa.seasonal_decompose(TimelineData)\n",
    "\n",
    "# Plotting\n",
    "fig, axes = plt.subplots(4, 1, sharex=True, figsize=(16, 10))\n",
    "plt.suptitle('Timeline Decomposition')\n",
    "Decomposition.observed.plot(ax=axes[0], legend=False, color = 'lightcoral')\n",
    "axes[0].set_ylabel('Observed')\n",
    "Decomposition.trend.plot(ax=axes[1], legend=False, color='lightcoral')\n",
    "axes[1].set_ylabel('Trend')\n",
    "Decomposition.seasonal.plot(ax=axes[2], legend=False, color = 'lightcoral')\n",
    "axes[2].set_ylabel('Seasonal')\n",
    "Decomposition.resid.plot(ax=axes[3], legend=False, color='lightcoral');\n",
    "axes[3].set_ylabel('Residual');"
   ]
  },
  {
   "cell_type": "markdown",
   "metadata": {},
   "source": [
    "## Question 3: What are the factors that have the biggest impact on the number of accidents?\n",
    "\n",
    "- Can we find a variable that increases the number of accidents?\n",
    "- Out of all the junction and sign types, what's the most effective to reduce the number of accidents?"
   ]
  },
  {
   "cell_type": "code",
   "execution_count": null,
   "metadata": {},
   "outputs": [],
   "source": [
    "# Select columns\n",
    "SelectedColumns = ['Amenity', 'Bump', 'Crossing',\n",
    "       'Give_Way', 'Junction', 'No_Exit', 'Railway', 'Roundabout', 'Station',\n",
    "       'Stop', 'Traffic_Calming', 'Traffic_Signal', 'Turning_Loop',\n",
    "       'Sunrise_Sunset']\n",
    "\n",
    "# Filter Data\n",
    "SelectedData = AccidentData[SelectedColumns]\n",
    "\n",
    "# Dropping null values in Sunrise and Sunset. only 59 out of 3mil\n",
    "SelectedData = SelectedData[~SelectedData.Sunrise_Sunset.isna()]\n",
    "\n",
    "# Grouping data with counts\n",
    "SelectedCount = pd.DataFrame({'Count' : AccidentData.groupby(SelectedColumns).size()}).reset_index()\n",
    "\n",
    "# Splitting column types\n",
    "SingleValue = [Column for Column in SelectedColumns if len(SelectedCount[Column].unique()) == 1]\n",
    "BinaryColumns = [Column for Column in SelectedColumns if len(SelectedCount[Column].unique()) == 2]\n",
    "CategoricalColumns = [Column for Column in SelectedColumns if len(SelectedCount[Column].unique()) > 2]\n",
    "\n",
    "# Drop columns with single value\n",
    "SelectedCount = SelectedCount.drop(SingleValue, axis = 1)\n",
    "\n",
    "# Map binary columns\n",
    "for Binary in BinaryColumns:\n",
    "    UniqueValues = SelectedCount[Binary].unique()\n",
    "    MappingDict = {oldval:newval for newval, oldval in enumerate(UniqueValues)}\n",
    "    SelectedCount[Binary] = SelectedCount[Binary].map(MappingDict)\n",
    "\n",
    "# Transforming categorical to binary\n",
    "for Categorical in CategoricalColumns:\n",
    "    SelectedCount = pd.concat([SelectedCount, pd.get_dummies(SelectedCount[Categorical])], axis=1)\n",
    "    SelectedCount = SelectedCount.drop(Categorical, axis = 1)"
   ]
  },
  {
   "cell_type": "code",
   "execution_count": null,
   "metadata": {},
   "outputs": [],
   "source": [
    "# Splitting X and Y\n",
    "y = SelectedCount['Count']\n",
    "X = SelectedCount.drop('Count', axis = 1)\n",
    "\n",
    "# Create train and test set\n",
    "X_train, X_test, y_train, y_test = train_test_split(X, y, test_size = .2, random_state=42)\n",
    "\n",
    "#Instantiate\n",
    "lm_model = LinearRegression(normalize=True) \n",
    "\n",
    "# Fit the model\n",
    "lm_model.fit(X_train, y_train) \n",
    "\n",
    "# Predict\n",
    "y_test_preds = lm_model.predict(X_test)\n",
    "y_train_preds = lm_model.predict(X_train)\n",
    "\n",
    "# Calculate the R2 score for train and test\n",
    "r2_scores_test = r2_score(y_test, y_test_preds)\n",
    "r2_scores_train = r2_score(y_train, y_train_preds)\n",
    "\n",
    "print(r2_scores_train)"
   ]
  },
  {
   "cell_type": "code",
   "execution_count": null,
   "metadata": {},
   "outputs": [],
   "source": [
    "def coef_weights(coefficients, X_train):\n",
    "    # Using function from nanodegree to sort coefficients\n",
    "    coefs_df = pd.DataFrame()\n",
    "    coefs_df['Variable'] = X_train.columns\n",
    "    coefs_df['coefs'] = lm_model.coef_\n",
    "    coefs_df['abs_coefs'] = np.abs(lm_model.coef_)\n",
    "    coefs_df = coefs_df.sort_values('abs_coefs', ascending=False)\n",
    "    return coefs_df\n",
    "\n",
    "#Use the function\n",
    "coef_df = coef_weights(lm_model.coef_, X_train)\n",
    "\n",
    "#A quick look at the top results\n",
    "coef_df.head(10)\n",
    "\n",
    "# Barplot\n",
    "plt.figure(num=None, figsize=(18, 10), dpi=80, facecolor='w', edgecolor='k')\n",
    "sns.barplot(y = coef_df['Variable'], x = coef_df['coefs'], \n",
    "           palette = ['skyblue' if coef > 0 else 'lightcoral' for coef in coef_df['coefs']]);"
   ]
  },
  {
   "cell_type": "code",
   "execution_count": null,
   "metadata": {},
   "outputs": [],
   "source": []
  }
 ],
 "metadata": {
  "kernelspec": {
   "display_name": "Python 3",
   "language": "python",
   "name": "python3"
  },
  "language_info": {
   "codemirror_mode": {
    "name": "ipython",
    "version": 3
   },
   "file_extension": ".py",
   "mimetype": "text/x-python",
   "name": "python",
   "nbconvert_exporter": "python",
   "pygments_lexer": "ipython3",
   "version": "3.7.5"
  }
 },
 "nbformat": 4,
 "nbformat_minor": 2
}
